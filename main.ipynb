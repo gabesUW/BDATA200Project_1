{
 "cells": [
  {
   "cell_type": "markdown",
   "id": "91d369f7",
   "metadata": {},
   "source": [
    "# Supplementary Code for BDATA 200 Projects\n",
    "\n",
    "Included in this iPy Notebook are the core functions and work for \n",
    "the data analysis performed in the project. This Repository will be used for\n",
    "project two and will be updated accordingly. The subheadings correspond\n",
    "with the function names for quick reference."
   ]
  },
  {
   "cell_type": "markdown",
   "id": "17d4de5c",
   "metadata": {},
   "source": [
    "## Accessing the Data from IBM and Importing Packages\n",
    "\n",
    "The data in this study comes from the US Bureau of Transportation Statistics, but is\n",
    "made available through *IBM's Airline Reporting Carrier On-Time Performance Dataset*. So beyond importing the packages, this cell makes use of code provided by IBM to access the data in a useable format.\n",
    "\n",
    "Included at the bottom is a sample of the data to save on compute-time in testing."
   ]
  },
  {
   "cell_type": "code",
   "execution_count": 1,
   "id": "d8932462",
   "metadata": {},
   "outputs": [],
   "source": [
    "import statsmodels.formula.api as smf\n",
    "import pandas as pd \n",
    "import matplotlib.pyplot as plt\n",
    "import numpy as np\n",
    "import statsmodels.api as sm\n",
    "import scipy.stats as stats\n",
    "import pylab\n",
    "data_path = \"airline_2m.csv\"\n",
    "#CSV Can be directly downloaded as a tar file here: \n",
    "\n",
    "#https://dax-cdn.cdn.appdomain.cloud/dax-airline/1.0.1/airline_2m.tar.gz?_ga=2.241493383.460169643.1645306071-17791737.1643504108\n",
    "\n",
    "# Credit to IBM's Airline Dataset for the data and encoding code.\n",
    "\n",
    "\n",
    "data = pd.read_csv(data_path, encoding = \"ISO-8859-1\",\n",
    "                 dtype={'Div1Airport': str, 'Div1TailNum': str, 'Div2Airport': str, 'Div2TailNum': str})\n",
    "#Code Provided By IBMs Airline Reporting Carrier on-time performance set. \n",
    "#This helps python better interpret the data frame because it is not encoded in UTF-8 \n",
    "#An alternative to this could be to actually change the file to be encoded in UTF-8\n",
    "#but this was difficult to do with how big the file was.\n",
    "\n",
    "sample = data.sample(1000)\n",
    "#Create Sample For Examples"
   ]
  },
  {
   "cell_type": "markdown",
   "id": "21412045",
   "metadata": {},
   "source": [
    "### originDelays"
   ]
  },
  {
   "cell_type": "code",
   "execution_count": 6,
   "id": "8f8bf4ea",
   "metadata": {},
   "outputs": [],
   "source": [
    "def originDelays(df, orig, desto):\n",
    "    \"\"\"\n",
    "    This Function Takes in a dataframe from the Airline Dataset. \n",
    "    Then the Data is isolated strictly to the 1 dimensional frame of Arrival\n",
    "    Delays for flights from one airport (IATA location ID) to another airport (\" \").\n",
    "    \n",
    "    The arguments follow this format:\n",
    "    \n",
    "    originDelays(dataframe,string,string)\n",
    "    \n",
    "    \n",
    "    \"\"\"\n",
    "    originSubset = df[df['Origin'] == orig]\n",
    "    originSubset = originSubset[originSubset['Dest'] == desto ]\n",
    "    #Shaves the DataFrame so that we are just looking at origin rows\n",
    "    #Then cuts out desired destinations.\n",
    "    \n",
    "    print(originSubset['Origin'])\n",
    "    #Print Statement To verify the Origin\n",
    "    print(originSubset['Dest'])\n",
    "    #Print Statement to verify the Destination\n",
    "\n",
    "    arvl_delay = originSubset['ArrDelay'].fillna(0)\n",
    "    #Takes out the Arrival Delay column, adds 0 for the NA spots \n",
    "    #NA spots infer no delay from IBMs Dataset\n",
    "    \n",
    "    qData = arvl_delay\n",
    "    #Rename for sake of callability\n",
    "    \n",
    "    plt.hist(arvl_delay, bins='auto')\n",
    "    #Constructs the histogram with automatic sizing\n",
    "    plt.xlabel('Delay')\n",
    "    #Delay in Minutes\n",
    "    plt.ylabel('Frequency')\n",
    "    #Plot a histogram for verification of data\n",
    "    plt.show()\n",
    "    \n",
    "    print(stats.describe(qData))\n",
    "    #Descriptive statistics to compare with Histogram\n",
    "    \n",
    "    sm.qqplot(qData, stats.norm, fit=True,line ='45', color = 'r', fmt = '.r')\n",
    "    #The Normal Distribution Q-Q Plot\n",
    "    \n",
    "    sm.qqplot(qData, stats.skewnorm, fit=True,line ='45', color = 'b', fmt = '.b')\n",
    "    #The Skewed Normal Distribution Q-Q Plot\n",
    "    \n",
    "    sm.qqplot(qData, stats.lognorm, fit=True,line ='45', color = 'y', fmt = '.y')\n",
    "    #The LogNormal Distribution Q-Q Plot\n",
    "    \n",
    "    sm.qqplot(qData, stats.expon, fit=True,line ='45', color = 'g', fmt = '.g')\n",
    "    #The Exponential Distribution Q-Q Plot\n",
    "    \n",
    "    sm.qqplot(qData, stats.genlogistic, fit=True,line ='45', color = 'g', fmt = '.g')\n",
    "    #The Logistic Distribution Q-Q Plot\n",
    "    \n",
    "    plt.show()"
   ]
  },
  {
   "cell_type": "markdown",
   "id": "2ee5c360",
   "metadata": {},
   "source": [
    "### plotter"
   ]
  },
  {
   "cell_type": "code",
   "execution_count": null,
   "id": "c273c10d",
   "metadata": {},
   "outputs": [],
   "source": [
    "def plotter(dataFrame, xColumn, yColumn):\n",
    "    \"\"\"\n",
    "    This function takes in a dataframe, and two column names to \n",
    "    compare in a scatter plot.\n",
    "    The arguments follow this format:\n",
    "    plotter(dataframe, x column string, y column string) \n",
    "    \n",
    "    \"\"\"\n",
    "    x = dataFrame[xColumn]\n",
    "    y = dataFrame[yColumn]\n",
    "    #Renamed x and y for clarity in scatter call\n",
    "    \n",
    "    plt.scatter(x,y)\n",
    "    #Construct the scatter plot\n",
    "    "
   ]
  },
  {
   "cell_type": "markdown",
   "id": "db38502f",
   "metadata": {},
   "source": [
    "### ols_models"
   ]
  },
  {
   "cell_type": "code",
   "execution_count": 5,
   "id": "9421da63",
   "metadata": {},
   "outputs": [],
   "source": [
    "def ols_model(df,x, y):\n",
    "    \"\"\"\n",
    "    This Function takes in a dataframe and two columns of that \n",
    "    data frame to create a ordinary least squares regression and\n",
    "    prints out a summary\n",
    "    the arguments follow this format:\n",
    "    ols_model(dataframe, dataframe[xcolumn],dataframe[ycolumn])\n",
    "    \n",
    "    \"\"\"\n",
    "    regression = smf.ols(formula = 'y ~ x', data = df).fit()\n",
    "    #Performs an Ordinary Least Squares Regression\n",
    "    \n",
    "    summary = regression.summary()\n",
    "    print(summary)\n",
    "    return "
   ]
  },
  {
   "cell_type": "markdown",
   "id": "92520b7a",
   "metadata": {},
   "source": [
    "## Examples of the functions:"
   ]
  },
  {
   "cell_type": "code",
   "execution_count": null,
   "id": "809347a6",
   "metadata": {},
   "outputs": [],
   "source": [
    "plotter(sample,'AirTime','Distance')\n",
    "#Example Call of Plotter"
   ]
  },
  {
   "cell_type": "code",
   "execution_count": null,
   "id": "c45933c5",
   "metadata": {},
   "outputs": [],
   "source": [
    "ols_model(sample, sample['ArrDelay'],sample['Distance'])\n",
    "#Example Call ols_model"
   ]
  },
  {
   "cell_type": "code",
   "execution_count": 22,
   "id": "504cd8aa",
   "metadata": {},
   "outputs": [
    {
     "name": "stdout",
     "output_type": "stream",
     "text": [
      "367645     PDX\n",
      "740845     PDX\n",
      "65275      PDX\n",
      "407620     PDX\n",
      "1634332    PDX\n",
      "464212     PDX\n",
      "1332397    PDX\n",
      "740296     PDX\n",
      "1835867    PDX\n",
      "1667663    PDX\n",
      "1002473    PDX\n",
      "139281     PDX\n",
      "1097382    PDX\n",
      "714820     PDX\n",
      "1625025    PDX\n",
      "617141     PDX\n",
      "1484715    PDX\n",
      "732463     PDX\n",
      "678219     PDX\n",
      "515385     PDX\n",
      "984859     PDX\n",
      "1251713    PDX\n",
      "856636     PDX\n",
      "203505     PDX\n",
      "528777     PDX\n",
      "280823     PDX\n",
      "297424     PDX\n",
      "1987724    PDX\n",
      "1921182    PDX\n",
      "945330     PDX\n",
      "623122     PDX\n",
      "558054     PDX\n",
      "493500     PDX\n",
      "424576     PDX\n",
      "1785897    PDX\n",
      "1452803    PDX\n",
      "1293819    PDX\n",
      "559748     PDX\n",
      "739266     PDX\n",
      "981195     PDX\n",
      "751431     PDX\n",
      "414916     PDX\n",
      "1570126    PDX\n",
      "44977      PDX\n",
      "117226     PDX\n",
      "1335089    PDX\n",
      "1957808    PDX\n",
      "322881     PDX\n",
      "1313690    PDX\n",
      "1031813    PDX\n",
      "1981708    PDX\n",
      "1867675    PDX\n",
      "298042     PDX\n",
      "1011247    PDX\n",
      "1824913    PDX\n",
      "765770     PDX\n",
      "274344     PDX\n",
      "Name: Origin, dtype: object\n",
      "367645     LAX\n",
      "740845     LAX\n",
      "65275      LAX\n",
      "407620     LAX\n",
      "1634332    LAX\n",
      "464212     LAX\n",
      "1332397    LAX\n",
      "740296     LAX\n",
      "1835867    LAX\n",
      "1667663    LAX\n",
      "1002473    LAX\n",
      "139281     LAX\n",
      "1097382    LAX\n",
      "714820     LAX\n",
      "1625025    LAX\n",
      "617141     LAX\n",
      "1484715    LAX\n",
      "732463     LAX\n",
      "678219     LAX\n",
      "515385     LAX\n",
      "984859     LAX\n",
      "1251713    LAX\n",
      "856636     LAX\n",
      "203505     LAX\n",
      "528777     LAX\n",
      "280823     LAX\n",
      "297424     LAX\n",
      "1987724    LAX\n",
      "1921182    LAX\n",
      "945330     LAX\n",
      "623122     LAX\n",
      "558054     LAX\n",
      "493500     LAX\n",
      "424576     LAX\n",
      "1785897    LAX\n",
      "1452803    LAX\n",
      "1293819    LAX\n",
      "559748     LAX\n",
      "739266     LAX\n",
      "981195     LAX\n",
      "751431     LAX\n",
      "414916     LAX\n",
      "1570126    LAX\n",
      "44977      LAX\n",
      "117226     LAX\n",
      "1335089    LAX\n",
      "1957808    LAX\n",
      "322881     LAX\n",
      "1313690    LAX\n",
      "1031813    LAX\n",
      "1981708    LAX\n",
      "1867675    LAX\n",
      "298042     LAX\n",
      "1011247    LAX\n",
      "1824913    LAX\n",
      "765770     LAX\n",
      "274344     LAX\n",
      "Name: Dest, dtype: object\n"
     ]
    },
    {
     "data": {
      "image/png": "[encoded data removed]",
      "text/plain": [
       "<Figure size 432x288 with 1 Axes>"
      ]
     },
     "metadata": {
      "needs_background": "light"
     },
     "output_type": "display_data"
    },
    {
     "name": "stdout",
     "output_type": "stream",
     "text": [
      "DescribeResult(nobs=57, minmax=(-25.0, 287.0), mean=5.017543859649122, variance=1815.2318295739356, skewness=5.346163722023954, kurtosis=32.178457841367205)\n"
     ]
    },
    {
     "name": "stderr",
     "output_type": "stream",
     "text": [
      "/Users/Gscott/opt/anaconda3/lib/python3.9/site-packages/statsmodels/graphics/gofplots.py:993: UserWarning: marker is redundantly defined by the 'marker' keyword argument and the fmt string \".r\" (-> marker='.'). The keyword argument will take precedence.\n",
      "  ax.plot(x, y, fmt, **plot_style)\n",
      "/Users/Gscott/opt/anaconda3/lib/python3.9/site-packages/statsmodels/graphics/gofplots.py:993: UserWarning: color is redundantly defined by the 'color' keyword argument and the fmt string \".r\" (-> color='r'). The keyword argument will take precedence.\n",
      "  ax.plot(x, y, fmt, **plot_style)\n",
      "/Users/Gscott/opt/anaconda3/lib/python3.9/site-packages/statsmodels/graphics/gofplots.py:993: UserWarning: marker is redundantly defined by the 'marker' keyword argument and the fmt string \".b\" (-> marker='.'). The keyword argument will take precedence.\n",
      "  ax.plot(x, y, fmt, **plot_style)\n",
      "/Users/Gscott/opt/anaconda3/lib/python3.9/site-packages/statsmodels/graphics/gofplots.py:993: UserWarning: color is redundantly defined by the 'color' keyword argument and the fmt string \".b\" (-> color='b'). The keyword argument will take precedence.\n",
      "  ax.plot(x, y, fmt, **plot_style)\n",
      "/Users/Gscott/opt/anaconda3/lib/python3.9/site-packages/statsmodels/graphics/gofplots.py:993: UserWarning: marker is redundantly defined by the 'marker' keyword argument and the fmt string \".y\" (-> marker='.'). The keyword argument will take precedence.\n",
      "  ax.plot(x, y, fmt, **plot_style)\n",
      "/Users/Gscott/opt/anaconda3/lib/python3.9/site-packages/statsmodels/graphics/gofplots.py:993: UserWarning: color is redundantly defined by the 'color' keyword argument and the fmt string \".y\" (-> color='y'). The keyword argument will take precedence.\n",
      "  ax.plot(x, y, fmt, **plot_style)\n",
      "/Users/Gscott/opt/anaconda3/lib/python3.9/site-packages/statsmodels/graphics/gofplots.py:993: UserWarning: marker is redundantly defined by the 'marker' keyword argument and the fmt string \".g\" (-> marker='.'). The keyword argument will take precedence.\n",
      "  ax.plot(x, y, fmt, **plot_style)\n",
      "/Users/Gscott/opt/anaconda3/lib/python3.9/site-packages/statsmodels/graphics/gofplots.py:993: UserWarning: color is redundantly defined by the 'color' keyword argument and the fmt string \".g\" (-> color='g'). The keyword argument will take precedence.\n",
      "  ax.plot(x, y, fmt, **plot_style)\n",
      "/Users/Gscott/opt/anaconda3/lib/python3.9/site-packages/statsmodels/graphics/gofplots.py:993: UserWarning: marker is redundantly defined by the 'marker' keyword argument and the fmt string \".g\" (-> marker='.'). The keyword argument will take precedence.\n",
      "  ax.plot(x, y, fmt, **plot_style)\n",
      "/Users/Gscott/opt/anaconda3/lib/python3.9/site-packages/statsmodels/graphics/gofplots.py:993: UserWarning: color is redundantly defined by the 'color' keyword argument and the fmt string \".g\" (-> color='g'). The keyword argument will take precedence.\n",
      "  ax.plot(x, y, fmt, **plot_style)\n"
     ]
    },
    {
     "data": {
      "image/png": "[encoded data removed]",
      "text/plain": [
       "<Figure size 432x288 with 1 Axes>"
      ]
     },
     "metadata": {
      "needs_background": "light"
     },
     "output_type": "display_data"
    },
    {
     "data": {
      "image/png": "[encoded data removed]",
      "text/plain": [
       "<Figure size 432x288 with 1 Axes>"
      ]
     },
     "metadata": {
      "needs_background": "light"
     },
     "output_type": "display_data"
    },
    {
     "data": {
      "image/png": "[encoded data removed]",
      "text/plain": [
       "<Figure size 432x288 with 1 Axes>"
      ]
     },
     "metadata": {
      "needs_background": "light"
     },
     "output_type": "display_data"
    },
    {
     "data": {
      "image/png": "[encoded data removed]",
      "text/plain": [
       "<Figure size 432x288 with 1 Axes>"
      ]
     },
     "metadata": {
      "needs_background": "light"
     },
     "output_type": "display_data"
    },
    {
     "data": {
      "image/png": "[encoded data removed]",
      "text/plain": [
       "<Figure size 432x288 with 1 Axes>"
      ]
     },
     "metadata": {
      "needs_background": "light"
     },
     "output_type": "display_data"
    }
   ],
   "source": [
    "originDelays(sample, 'PDX', 'LAX')"
   ]
  },
  {
   "cell_type": "markdown",
   "id": "4108a1f6",
   "metadata": {},
   "source": [
    "## cdfMaker"
   ]
  },
  {
   "cell_type": "code",
   "execution_count": 16,
   "id": "a213104f",
   "metadata": {},
   "outputs": [],
   "source": [
    "def cdfMaker(columnDf):\n",
    "    \"\"\"\n",
    "    This function takes in a dataframe from the Airline Dataset\n",
    "    and generates a plot of the PMF and CDF of the selected column\n",
    "    in the dataframe.\n",
    "    The argument follow this format:\n",
    "    \n",
    "    cdfMaker(df['columName'])\n",
    "\n",
    "    \"\"\"\n",
    "    \n",
    "    data = columnDf.fillna(0)\n",
    "    #Fills in NA entries with 0\n",
    "    \n",
    "    minutes, hist = np.histogram(data, bins='auto')\n",
    "    #Create histogram named hist and minutes\n",
    "    #Later, the histogram 'hist' will be used for the plots\n",
    "    \n",
    "    pmf = minutes / sum(minutes)\n",
    "    #pmf is the probability mass function\n",
    "    # X = \"delay in minutes\"\n",
    "    #pmf = P(X = x)\n",
    "    \n",
    "    cdf = np.cumsum(pmf)\n",
    "    #cdf is the cumulative distribution function\n",
    "    # X = \"delay in minutes\"\n",
    "    #cdf = P(X  <= x)\n",
    "\n",
    "    fig, (ax1,ax2) = plt.subplots(2)\n",
    "    #Creates the figure with 2 subplots\n",
    "    fig.suptitle('PMF & CDF')\n",
    "    #Adds title to entire figure\n",
    "    ax1.plot(hist[1:], pmf, color=\"tab:orange\", label=\"PMF\")\n",
    "    #Plots the PMF in orange\n",
    "    ax2.plot(hist[1:], cdf, color=\"tab:purple\", label=\"CDF\")\n",
    "    #Plots the CDF in purple.\n",
    "    \n",
    "    plt.legend()\n",
    "    #Shows the legend has ERROR with PMF for now"
   ]
  },
  {
   "cell_type": "code",
   "execution_count": 20,
   "id": "0a33ef8f",
   "metadata": {},
   "outputs": [],
   "source": [
    "sample = data.sample(80000)\n",
    "#Create Sample For Examples"
   ]
  },
  {
   "cell_type": "code",
   "execution_count": 21,
   "id": "423a3414",
   "metadata": {},
   "outputs": [
    {
     "data": {
      "image/png": "[encoded data removed]",
      "text/plain": [
       "<Figure size 432x288 with 2 Axes>"
      ]
     },
     "metadata": {
      "needs_background": "light"
     },
     "output_type": "display_data"
    }
   ],
   "source": [
    "cdfMaker(sample['ArrDelay'])\n",
    "#Example call of cdfMaker"
   ]
  }
 ],
 "metadata": {
  "kernelspec": {
   "display_name": "Python 3 (ipykernel)",
   "language": "python",
   "name": "python3"
  },
  "language_info": {
   "codemirror_mode": {
    "name": "ipython",
    "version": 3
   },
   "file_extension": ".py",
   "mimetype": "text/x-python",
   "name": "python",
   "nbconvert_exporter": "python",
   "pygments_lexer": "ipython3",
   "version": "3.9.7"
  }
 },
 "nbformat": 4,
 "nbformat_minor": 5
}
